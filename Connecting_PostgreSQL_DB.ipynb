{
  "nbformat": 4,
  "nbformat_minor": 0,
  "metadata": {
    "colab": {
      "name": "Untitled0.ipynb",
      "provenance": []
    },
    "kernelspec": {
      "name": "python3",
      "display_name": "Python 3"
    },
    "language_info": {
      "name": "python"
    }
  },
  "cells": [
    {
      "cell_type": "markdown",
      "source": [
        "## Libraries"
      ],
      "metadata": {
        "id": "Lp7d7rFHy9Sc"
      }
    },
    {
      "cell_type": "code",
      "execution_count": 2,
      "metadata": {
        "colab": {
          "base_uri": "https://localhost:8080/"
        },
        "id": "SA0NFfUyuBpO",
        "outputId": "ea456a08-c376-44e6-ac01-1b9d370b0f7d"
      },
      "outputs": [
        {
          "output_type": "stream",
          "name": "stdout",
          "text": [
            "Requirement already satisfied: psycopg2 in /usr/local/lib/python3.7/dist-packages (2.7.6.1)\n"
          ]
        },
        {
          "output_type": "stream",
          "name": "stderr",
          "text": [
            "/usr/local/lib/python3.7/dist-packages/psycopg2/__init__.py:144: UserWarning: The psycopg2 wheel package will be renamed from release 2.8; in order to keep installing from binary please use \"pip install psycopg2-binary\" instead. For details see: <http://initd.org/psycopg/docs/install.html#binary-install-from-pypi>.\n",
            "  \"\"\")\n"
          ]
        }
      ],
      "source": [
        "!pip install psycopg2\n",
        "import psycopg2 as ps\n",
        "import pandas as pd\n",
        "import requests\n",
        "import time"
      ]
    },
    {
      "cell_type": "markdown",
      "source": [
        "## API data extraction"
      ],
      "metadata": {
        "id": "YsqknLaszBl8"
      }
    },
    {
      "cell_type": "code",
      "source": [
        "\n",
        "\n",
        "#keys\n",
        "API_KEY = 'your_key'\n",
        "\n",
        "#the ID channel your're going ot extract info from, in my case is the National Geographic Channel \n",
        "CHANNEL_ID = 'UCnmlG_YzRYzWzJbW2oDn_ow'\n"
      ],
      "metadata": {
        "id": "J5BraQoIxlCz"
      },
      "execution_count": 15,
      "outputs": []
    },
    {
      "cell_type": "code",
      "source": [
        "def get_video_details(video_id):\n",
        "\n",
        "    #collecting view, like, comment counts\n",
        "    url_video_stats = \"https://www.googleapis.com/youtube/v3/videos?id=\"+video_id+\"&part=statistics&key=\"+API_KEY\n",
        "    response_video_stats = requests.get(url_video_stats).json()\n",
        "\n",
        "    view_count = response_video_stats['items'][0]['statistics']['viewCount']\n",
        "    like_count = response_video_stats['items'][0]['statistics']['likeCount']\n",
        "    comment_count = response_video_stats['items'][0]['statistics']['commentCount']\n",
        "\n",
        "    return view_count, like_count, comment_count"
      ],
      "metadata": {
        "id": "gLjmil9UydsF"
      },
      "execution_count": 16,
      "outputs": []
    },
    {
      "cell_type": "code",
      "source": [
        "def get_videos(df):\n",
        "    pageToken = \"\"\n",
        "    while 1:\n",
        "        url = \"https://www.googleapis.com/youtube/v3/search?key=\"+API_KEY+\"&channelId=\"+CHANNEL_ID+\"&part=snippet,id&order=date&maxResults=10000&\"+pageToken\n",
        "\n",
        "        response = requests.get(url).json()\n",
        "        time.sleep(1) #give it a second before starting the for loop\n",
        "        for video in response['items']:\n",
        "            if video['id']['kind'] == \"youtube#video\":\n",
        "                video_id = video['id']['videoId']\n",
        "                video_title = video['snippet']['title']\n",
        "                video_title = str(video_title).replace(\"&amp;\",\"\")\n",
        "                upload_date = video['snippet']['publishedAt']\n",
        "                upload_date = str(upload_date).split(\"T\")[0]\n",
        "                view_count, like_count, comment_count = get_video_details(video_id)\n",
        "\n",
        "                df = df.append({'video_id':video_id,'video_title':video_title,\n",
        "                                \"upload_date\":upload_date,\"view_count\":view_count,\n",
        "                                \"like_count\":like_count,\"comment_count\":comment_count},ignore_index=True)\n",
        "        try:\n",
        "            if response['nextPageToken'] != None: #if none, it means it reached the last page and break out of it\n",
        "                pageToken = \"pageToken=\" + response['nextPageToken']\n",
        "\n",
        "        except:\n",
        "            break\n",
        "\n",
        "\n",
        "    return df"
      ],
      "metadata": {
        "id": "5P41pv6Pyh5R"
      },
      "execution_count": 17,
      "outputs": []
    },
    {
      "cell_type": "code",
      "source": [
        "#main\n",
        "\n",
        "#build our dataframe\n",
        "df = pd.DataFrame(columns=[\"video_id\",\"video_title\",\"upload_date\",\"view_count\",\"like_count\",\"comment_count\"]) \n",
        "\n",
        "df = get_videos(df)"
      ],
      "metadata": {
        "id": "Sqoyok-fymfj"
      },
      "execution_count": 18,
      "outputs": []
    },
    {
      "cell_type": "code",
      "source": [
        "df.head()"
      ],
      "metadata": {
        "colab": {
          "base_uri": "https://localhost:8080/",
          "height": 206
        },
        "id": "mED5k43kyuHC",
        "outputId": "75fe0e2d-352a-4cde-8fc6-6fe8999e70fe"
      },
      "execution_count": 32,
      "outputs": [
        {
          "output_type": "execute_result",
          "data": {
            "text/html": [
              "\n",
              "  <div id=\"df-cfc3b6cd-dad7-4270-8eb4-639af66e151e\">\n",
              "    <div class=\"colab-df-container\">\n",
              "      <div>\n",
              "<style scoped>\n",
              "    .dataframe tbody tr th:only-of-type {\n",
              "        vertical-align: middle;\n",
              "    }\n",
              "\n",
              "    .dataframe tbody tr th {\n",
              "        vertical-align: top;\n",
              "    }\n",
              "\n",
              "    .dataframe thead th {\n",
              "        text-align: right;\n",
              "    }\n",
              "</style>\n",
              "<table border=\"1\" class=\"dataframe\">\n",
              "  <thead>\n",
              "    <tr style=\"text-align: right;\">\n",
              "      <th></th>\n",
              "      <th>video_id</th>\n",
              "      <th>video_title</th>\n",
              "      <th>upload_date</th>\n",
              "      <th>view_count</th>\n",
              "      <th>like_count</th>\n",
              "      <th>comment_count</th>\n",
              "    </tr>\n",
              "  </thead>\n",
              "  <tbody>\n",
              "    <tr>\n",
              "      <th>0</th>\n",
              "      <td>bT-3O9M13QE</td>\n",
              "      <td>El Encanto de Nuestras Raíces: La Chamba | Nat...</td>\n",
              "      <td>2022-02-04</td>\n",
              "      <td>3578</td>\n",
              "      <td>190</td>\n",
              "      <td>3</td>\n",
              "    </tr>\n",
              "    <tr>\n",
              "      <th>1</th>\n",
              "      <td>jvfxW89Y95U</td>\n",
              "      <td>El Encanto de Nuestras Raíces: Aguadas | Natio...</td>\n",
              "      <td>2022-01-28</td>\n",
              "      <td>7102</td>\n",
              "      <td>334</td>\n",
              "      <td>10</td>\n",
              "    </tr>\n",
              "    <tr>\n",
              "      <th>2</th>\n",
              "      <td>MvQkNzIJCC8</td>\n",
              "      <td>El Encanto de Nuestras Raíces: Detrás de cámar...</td>\n",
              "      <td>2022-01-21</td>\n",
              "      <td>3544</td>\n",
              "      <td>124</td>\n",
              "      <td>7</td>\n",
              "    </tr>\n",
              "    <tr>\n",
              "      <th>3</th>\n",
              "      <td>zJ7AvnuZbjE</td>\n",
              "      <td>El Encanto de Nuestras Raíces: Zenú | National...</td>\n",
              "      <td>2022-01-21</td>\n",
              "      <td>8060</td>\n",
              "      <td>213</td>\n",
              "      <td>9</td>\n",
              "    </tr>\n",
              "    <tr>\n",
              "      <th>4</th>\n",
              "      <td>0QJjlXNBbwE</td>\n",
              "      <td>El Encanto de Nuestras Raíces: Wayúu | Nationa...</td>\n",
              "      <td>2022-01-14</td>\n",
              "      <td>11449</td>\n",
              "      <td>376</td>\n",
              "      <td>11</td>\n",
              "    </tr>\n",
              "  </tbody>\n",
              "</table>\n",
              "</div>\n",
              "      <button class=\"colab-df-convert\" onclick=\"convertToInteractive('df-cfc3b6cd-dad7-4270-8eb4-639af66e151e')\"\n",
              "              title=\"Convert this dataframe to an interactive table.\"\n",
              "              style=\"display:none;\">\n",
              "        \n",
              "  <svg xmlns=\"http://www.w3.org/2000/svg\" height=\"24px\"viewBox=\"0 0 24 24\"\n",
              "       width=\"24px\">\n",
              "    <path d=\"M0 0h24v24H0V0z\" fill=\"none\"/>\n",
              "    <path d=\"M18.56 5.44l.94 2.06.94-2.06 2.06-.94-2.06-.94-.94-2.06-.94 2.06-2.06.94zm-11 1L8.5 8.5l.94-2.06 2.06-.94-2.06-.94L8.5 2.5l-.94 2.06-2.06.94zm10 10l.94 2.06.94-2.06 2.06-.94-2.06-.94-.94-2.06-.94 2.06-2.06.94z\"/><path d=\"M17.41 7.96l-1.37-1.37c-.4-.4-.92-.59-1.43-.59-.52 0-1.04.2-1.43.59L10.3 9.45l-7.72 7.72c-.78.78-.78 2.05 0 2.83L4 21.41c.39.39.9.59 1.41.59.51 0 1.02-.2 1.41-.59l7.78-7.78 2.81-2.81c.8-.78.8-2.07 0-2.86zM5.41 20L4 18.59l7.72-7.72 1.47 1.35L5.41 20z\"/>\n",
              "  </svg>\n",
              "      </button>\n",
              "      \n",
              "  <style>\n",
              "    .colab-df-container {\n",
              "      display:flex;\n",
              "      flex-wrap:wrap;\n",
              "      gap: 12px;\n",
              "    }\n",
              "\n",
              "    .colab-df-convert {\n",
              "      background-color: #E8F0FE;\n",
              "      border: none;\n",
              "      border-radius: 50%;\n",
              "      cursor: pointer;\n",
              "      display: none;\n",
              "      fill: #1967D2;\n",
              "      height: 32px;\n",
              "      padding: 0 0 0 0;\n",
              "      width: 32px;\n",
              "    }\n",
              "\n",
              "    .colab-df-convert:hover {\n",
              "      background-color: #E2EBFA;\n",
              "      box-shadow: 0px 1px 2px rgba(60, 64, 67, 0.3), 0px 1px 3px 1px rgba(60, 64, 67, 0.15);\n",
              "      fill: #174EA6;\n",
              "    }\n",
              "\n",
              "    [theme=dark] .colab-df-convert {\n",
              "      background-color: #3B4455;\n",
              "      fill: #D2E3FC;\n",
              "    }\n",
              "\n",
              "    [theme=dark] .colab-df-convert:hover {\n",
              "      background-color: #434B5C;\n",
              "      box-shadow: 0px 1px 3px 1px rgba(0, 0, 0, 0.15);\n",
              "      filter: drop-shadow(0px 1px 2px rgba(0, 0, 0, 0.3));\n",
              "      fill: #FFFFFF;\n",
              "    }\n",
              "  </style>\n",
              "\n",
              "      <script>\n",
              "        const buttonEl =\n",
              "          document.querySelector('#df-cfc3b6cd-dad7-4270-8eb4-639af66e151e button.colab-df-convert');\n",
              "        buttonEl.style.display =\n",
              "          google.colab.kernel.accessAllowed ? 'block' : 'none';\n",
              "\n",
              "        async function convertToInteractive(key) {\n",
              "          const element = document.querySelector('#df-cfc3b6cd-dad7-4270-8eb4-639af66e151e');\n",
              "          const dataTable =\n",
              "            await google.colab.kernel.invokeFunction('convertToInteractive',\n",
              "                                                     [key], {});\n",
              "          if (!dataTable) return;\n",
              "\n",
              "          const docLinkHtml = 'Like what you see? Visit the ' +\n",
              "            '<a target=\"_blank\" href=https://colab.research.google.com/notebooks/data_table.ipynb>data table notebook</a>'\n",
              "            + ' to learn more about interactive tables.';\n",
              "          element.innerHTML = '';\n",
              "          dataTable['output_type'] = 'display_data';\n",
              "          await google.colab.output.renderOutput(dataTable, element);\n",
              "          const docLink = document.createElement('div');\n",
              "          docLink.innerHTML = docLinkHtml;\n",
              "          element.appendChild(docLink);\n",
              "        }\n",
              "      </script>\n",
              "    </div>\n",
              "  </div>\n",
              "  "
            ],
            "text/plain": [
              "      video_id  ... comment_count\n",
              "0  bT-3O9M13QE  ...             3\n",
              "1  jvfxW89Y95U  ...            10\n",
              "2  MvQkNzIJCC8  ...             7\n",
              "3  zJ7AvnuZbjE  ...             9\n",
              "4  0QJjlXNBbwE  ...            11\n",
              "\n",
              "[5 rows x 6 columns]"
            ]
          },
          "metadata": {},
          "execution_count": 32
        }
      ]
    },
    {
      "cell_type": "markdown",
      "source": [
        "## Create DB"
      ],
      "metadata": {
        "id": "5gtrtDHfzE80"
      }
    },
    {
      "cell_type": "markdown",
      "source": [
        "Before coding I created a database in AWS RDS:\n",
        "\n",
        "Motor: PostgreSQL\n",
        "\n",
        "Public access: Yes\n",
        "\n",
        "Everything else stays as default.\n",
        "\n",
        "If you want to use free tier, use Standard create to set the PostgreSQL version lower than version 13, and then choose Free tier in Templates."
      ],
      "metadata": {
        "id": "hrBwsgVxzLth"
      }
    },
    {
      "cell_type": "code",
      "source": [
        "def connect_to_db(host_name, dbname, port, username, password):\n",
        "    try:\n",
        "        conn = ps.connect(host=host_name, port=port, database=dbname, user=username, password=password)\n",
        "\n",
        "    except ps.OperationalError as e:\n",
        "        raise e\n",
        "    else:\n",
        "        print('Connected!')\n",
        "        return conn"
      ],
      "metadata": {
        "id": "CBjClgK3z0US"
      },
      "execution_count": 20,
      "outputs": []
    },
    {
      "cell_type": "code",
      "source": [
        "# Create the schema for the table using the dataframe format\n",
        "def create_table(curr):\n",
        "    create_table_command = (\"\"\"CREATE TABLE IF NOT EXISTS videos (\n",
        "                    video_id VARCHAR(255) PRIMARY KEY,\n",
        "                    video_title TEXT NOT NULL,\n",
        "                    upload_date DATE NOT NULL DEFAULT CURRENT_DATE,\n",
        "                    view_count INTEGER NOT NULL,\n",
        "                    like_count INTEGER NOT NULL,\n",
        "                    comment_count INTEGER NOT NULL\n",
        "            )\"\"\")\n",
        "\n",
        "    curr.execute(create_table_command)\n",
        "\n",
        "def insert_into_table(curr, video_id, video_title, upload_date, view_count, like_count, comment_count):\n",
        "    insert_into_videos = (\"\"\"INSERT INTO videos (video_id, video_title, upload_date, view_count, like_count,comment_count) VALUES(%s,%s,%s,%s,%s,%s);\"\"\")\n",
        "    row_to_insert = (video_id, video_title, upload_date, view_count, like_count, comment_count)\n",
        "    curr.execute(insert_into_videos, row_to_insert)\n",
        "\n",
        "\n",
        "def update_row(curr, video_id, video_title, view_count, like_count, comment_count):\n",
        "    query = (\"\"\"UPDATE videos\n",
        "            SET video_title = %s,\n",
        "                view_count = %s,\n",
        "                like_count = %s,\n",
        "                comment_count = %s\n",
        "            WHERE video_id = %s;\"\"\")\n",
        "    vars_to_update = (video_title, view_count, like_count, comment_count, video_id)\n",
        "    curr.execute(query, vars_to_update)\n",
        "\n",
        "\n",
        "def check_if_video_exists(curr, video_id): \n",
        "    query = (\"\"\"SELECT video_id FROM VIDEOS WHERE video_id = %s\"\"\")\n",
        "\n",
        "    curr.execute(query, (video_id,))\n",
        "    return curr.fetchone() is not None\n",
        "\n",
        "\n",
        "\n",
        "def truncate_table(curr):\n",
        "    truncate_table = (\"\"\"TRUNCATE TABLE videos\"\"\")\n",
        "\n",
        "    curr.execute(truncate_table)\n",
        "\n",
        "\n",
        "def append_from_df_to_db(curr,df):\n",
        "    for i, row in df.iterrows():\n",
        "        insert_into_table(curr, row['video_id'], row['video_title'], row['upload_date'], row['view_count'], row['like_count'], row['comment_count'])\n",
        "\n",
        "\n",
        "def update_db(curr,df):\n",
        "    tmp_df = pd.DataFrame(columns=['video_id', 'video_title', 'upload_date', 'view_count','like_count', 'comment_count'])\n",
        "    for i, row in df.iterrows():\n",
        "        if check_if_video_exists(curr, row['video_id']): # If video already exists then we will update\n",
        "            update_row(curr,row['video_id'],row['video_title'],row['view_count'],row['like_count'],row['comment_count'])\n",
        "        else: # The video doesn't exists so we will add it to a temporary df and append it using append_from_df_to_db\n",
        "            tmp_df = tmp_df.append(row)\n",
        "\n",
        "    return tmp_df"
      ],
      "metadata": {
        "id": "m36Msywr8fiT"
      },
      "execution_count": 28,
      "outputs": []
    },
    {
      "cell_type": "code",
      "source": [
        "#Main\n",
        "\n",
        "#database credentials\n",
        "host_name = 'xxxxxx.amazonaws.com'\n",
        "dbname = 'xxxxxx'\n",
        "port = '5432'\n",
        "username = 'xxxxx' \n",
        "password = 'xxxxxx'\n",
        "conn = None\n",
        "\n",
        "#establish a connection to db\n",
        "conn = connect_to_db(host_name, dbname, port, username, password)\n",
        "curr = conn.cursor()"
      ],
      "metadata": {
        "colab": {
          "base_uri": "https://localhost:8080/"
        },
        "id": "SQEqjRvgy5RD",
        "outputId": "4214943f-06db-4040-c607-2857640b5f67"
      },
      "execution_count": 22,
      "outputs": [
        {
          "output_type": "stream",
          "name": "stdout",
          "text": [
            "Connected!\n"
          ]
        }
      ]
    },
    {
      "cell_type": "code",
      "source": [
        "#create table\n",
        "\n",
        "create_table(curr)"
      ],
      "metadata": {
        "id": "QOTDtNaB1Ngw"
      },
      "execution_count": 23,
      "outputs": []
    },
    {
      "cell_type": "code",
      "source": [
        "#update data for existing videos\n",
        "\n",
        "new_vid_df = update_db(curr,df)\n",
        "conn.commit()"
      ],
      "metadata": {
        "id": "0b5qDmwM1C3k"
      },
      "execution_count": 24,
      "outputs": []
    },
    {
      "cell_type": "code",
      "source": [
        "#insert new videos into db table\n",
        "\n",
        "append_from_df_to_db(curr, new_vid_df)\n",
        "conn.commit()\n"
      ],
      "metadata": {
        "id": "haoc8O8H1Ev8"
      },
      "execution_count": 29,
      "outputs": []
    },
    {
      "cell_type": "code",
      "source": [
        "#view data in db table\n",
        "\n",
        "curr.execute(\"SELECT * FROM VIDEOS\")\n",
        "print(curr.fetchall())"
      ],
      "metadata": {
        "colab": {
          "base_uri": "https://localhost:8080/"
        },
        "id": "-MRO6Xpd2QB3",
        "outputId": "13a881ce-06cb-4388-92ec-42c192a5cc82"
      },
      "execution_count": 30,
      "outputs": [
        {
          "output_type": "stream",
          "name": "stdout",
          "text": [
            "[('bT-3O9M13QE', 'El Encanto de Nuestras Raíces: La Chamba | National Geographic', datetime.date(2022, 2, 4), 3578, 190, 3), ('jvfxW89Y95U', 'El Encanto de Nuestras Raíces: Aguadas | National Geographic', datetime.date(2022, 1, 28), 7102, 334, 10), ('MvQkNzIJCC8', 'El Encanto de Nuestras Raíces: Detrás de cámara | National Geographic', datetime.date(2022, 1, 21), 3544, 124, 7), ('zJ7AvnuZbjE', 'El Encanto de Nuestras Raíces: Zenú | National Geographic', datetime.date(2022, 1, 21), 8060, 213, 9), ('0QJjlXNBbwE', 'El Encanto de Nuestras Raíces: Wayúu | National Geographic', datetime.date(2022, 1, 14), 11449, 376, 11), ('rAPjWaqip7A', 'Alerta Aeropuerto Colombia: Seducido por las redes', datetime.date(2021, 12, 28), 667808, 5649, 558), ('szmpGxU5R9M', 'Cuando Los Tiburones atacan: ¿Puede un virus causar el ataque? | National Geographic', datetime.date(2021, 12, 21), 7918, 172, 5), ('QIvXSY-2JsI', 'Cuando Los Tiburones Atacan: ¿Los atrae la sangre? | National Geographic', datetime.date(2021, 12, 18), 8006, 212, 3), ('HNJimmITYow', 'Semana de los Exploradores: Episodio 4 | National Geographic', datetime.date(2021, 12, 9), 5312, 97, 4), ('aBqr384SJ4o', 'Semana de los Exploradores: Episodio 2 | National Geographic', datetime.date(2021, 12, 7), 5451, 119, 3), ('yBhjRuQcIBk', 'Semana de los Exploradores: Episodio 1 | National Geographic', datetime.date(2021, 12, 6), 4204, 119, 8), ('Y9ots6rT8VI', 'Fronteras al Límite: Un autobús con más de 50 kilos de sustancias ilícitas', datetime.date(2021, 11, 18), 633528, 5162, 124), ('ueNviXyC4x0', 'Bienvenidos a la Tierra | Tráiler Oficial | Disney+', datetime.date(2021, 11, 12), 24132, 321, 13), ('dlkLXr-aFRo', 'Sin Límites | Tráiler Oficial | Disney+', datetime.date(2021, 11, 12), 4832, 130, 5), ('AAI41OkJyjQ', 'Fronteras al Límite: Una camioneta con muchos escondites', datetime.date(2021, 10, 27), 1602727, 10605, 246), ('8ESR3FG-COM', 'Planet Love Challenge | Conoce EcoTrash, el proyecto ganador', datetime.date(2021, 10, 26), 3559, 139, 3), ('wLoSOH5VI_M', 'Extreme E: Santa Elena, el barco que transporta a la categoría', datetime.date(2021, 9, 5), 3830, 88, 2), ('nel0AnhpJSA', 'Extreme E: Día de la Tierra', datetime.date(2021, 8, 22), 5500, 117, 2), ('bcShnmwkUqM', 'La importancia del envasado, para los alimentos y el planeta', datetime.date(2021, 8, 16), 5601, 180, 8), ('FbgdtB1163c', 'Extreme E: Energía producida en el lugar de las carreras', datetime.date(2021, 8, 15), 5732, 119, 1), ('Lrer_4j_f5k', 'Extreme E: Impacto en el medioambiente', datetime.date(2021, 8, 8), 4587, 188, 10), ('X4ZZJJPn-rM', 'Jugando con tiburones | Tráiler Oficial subtitulado | Disney+', datetime.date(2021, 6, 29), 6340, 149, 4), ('bSgZ9cU5l4E', 'Planet Love | Mini Lección: Convertirse en Agente de Cambio', datetime.date(2021, 6, 9), 4604, 87, 1), ('IIjg5cVP9us', 'Planet Love | Lección en Acción:  Agentes de Cambio', datetime.date(2021, 6, 9), 4923, 86, 3), ('7tymeKvnSoA', 'Planet Love | Documental: Nuevos Ciclos De Sustentabilidad', datetime.date(2021, 6, 9), 7190, 263, 30), ('KfiHzUQjBx4', 'Planet Love | Cómo Convertirse En Agentes De Cambio', datetime.date(2021, 6, 8), 8364, 398, 25), ('-AX4LI4mRdE', 'Planet Love | Challenge: Comparte tu proyecto', datetime.date(2021, 6, 7), 5386, 173, 10), ('LGdpnCct0kk', 'Planet Love | Documental: La Ciencia De Reinventarnos', datetime.date(2021, 5, 18), 5813, 279, 16), ('pu2Ye5ocDtI', 'Planet Love | La Reinvención De Lo Particular A Lo General | Juanita Ringeling', datetime.date(2021, 5, 17), 5329, 179, 5), ('lDFwKLBpTu4', 'Planet Love | Lección en Acción: Reciclar', datetime.date(2021, 5, 6), 2916, 43, 4), ('H4wvuzo_Z-I', 'Planet Love | Lección en Acción: Reciclar', datetime.date(2021, 5, 6), 7131, 101, 5), ('CwcmAtahk58', 'Planet Love | Mini Lección: Reciclar', datetime.date(2021, 5, 6), 3106, 118, 9), ('e8kdkf0W_NQ', 'Reciclando Vidas', datetime.date(2021, 5, 6), 6645, 202, 11), ('L8erC9eFzdk', 'El Reciclaje De Los Plásticos Más Comunes', datetime.date(2021, 5, 5), 51769, 745, 34), ('ylmSjrL6q4Y', 'Mini Lección: Reducir', datetime.date(2021, 4, 23), 5885, 194, 6), ('V7EyKa1SGhs', 'Planet Love | Documental: Aprendiendo A Reducir', datetime.date(2021, 4, 23), 5533, 187, 15), ('Oz7LLjofIwM', 'Planet Love', datetime.date(2021, 4, 22), 3256, 101, 8), ('GqkgTvbpDD0', 'Lo que haces cuenta | Inspira a otros', datetime.date(2021, 4, 22), 9181, 325, 8), ('9bqQbzkukyU', 'Planet Love | Reducir El Consumo De Plásticos | Connie Isla', datetime.date(2021, 4, 22), 13726, 662, 37), ('gpmY3GyPRhU', 'Lo que haces cuenta ¡Saltemos!', datetime.date(2021, 4, 22), 26549, 430, 33), ('VdVTEgE4uFU', 'Nat Geo&#39;s Earth Day Eve 2021 Virtual Celebration | National Geographic', datetime.date(2021, 4, 22), 14282, 389, 29), ('Uyf2Bkr2a4k', 'Greta: El Futuro es Hoy | Tráiler Oficial | Disney+', datetime.date(2021, 4, 16), 6791, 223, 52), ('6WsE3KdxKFw', 'National Geographic Live | Speakers | Detrás de Escena: Hablemos de mujeres que abren caminos', datetime.date(2021, 3, 27), 15534, 244, 8), ('W0I3THByl_o', 'National Geographic Live | Speakers | Detrás de Escena: Hablemos de fotografía', datetime.date(2021, 3, 18), 13807, 505, 14), ('pYYR7lbN-m8', 'Un recorrido por un lado distinto de la vida de Frida Kahlo', datetime.date(2021, 3, 8), 52557, 1282, 77), ('CWT-XHb2o7w', 'Los Elegidos de la Gloria | Avance Especial | Disney+', datetime.date(2021, 2, 3), 11034, 272, 18), ('3X3b3GWaORo', 'ANGELES AZULES DE BUENOS AIRES PARA EL MUNDO | NATIONAL GEOGRAPHIC', datetime.date(2020, 11, 18), 91718, 662, 63), ('BdtEMvhyzHk', 'NATIONAL GEOGRAPHIC EXPLORER SPOTLIGHT', datetime.date(2020, 11, 9), 13469, 232, 16), ('cX3_Br51oxM', 'Greta: El Futuro es Hoy #loquehacescuenta', datetime.date(2020, 10, 9), 16031, 429, 135), ('K_8zqCzTv68', 'Rutina. #NatGeoMascotas', datetime.date(2020, 4, 24), 14305, 162, 7), ('BudRea1A4-w', '¿Los gatos también juegan a la pelota? #NatGeoMascotas', datetime.date(2020, 4, 24), 12345, 184, 7), ('OQyYplnJyfQ', 'Diversión. #NatGeoMascotas', datetime.date(2020, 4, 23), 53403, 314, 11), ('DBSJmjIOXN0', 'Contacto #NatGeoMascotas', datetime.date(2020, 4, 23), 8815, 184, 8), ('VggusuVkbSQ', '#BiosSpinetta | Adelanto exclusivo | Estreno domingo 29', datetime.date(2019, 9, 28), 89350, 2781, 257), ('iJIvLiFuPlI', 'Tráiler del Podcast: Detrás de BIOS | Con Nicolás Artusi 🎙', datetime.date(2019, 9, 27), 11004, 120, 8), ('R92AODRyIM8', '#BiosSpinetta | El legado del &quot;Flaco&quot; Spinetta a su hijo Dante', datetime.date(2019, 9, 25), 63126, 1281, 89), ('VHCIG-WyYd0', '#BiosSpinetta | Ricardo Mollo recuerda a Luis Alberto Spinetta | Estreno 29 de septiembre', datetime.date(2019, 9, 10), 53133, 905, 75), ('YZ-CPjVCO_U', 'Episodio 1 | Reto Imposible, con Mario Ruiz | Estreno', datetime.date(2019, 7, 26), 35691, 1049, 53), ('-l7hV5wZLxc', '¿Como hacer un reloj de sol? | Reto Imposible, con Mario Ruiz', datetime.date(2019, 7, 24), 4578, 103, 10), ('OSah9NuLfSw', '¿Cómo hacer una brújula casera? | Reto Imposible, con Mario Ruiz', datetime.date(2019, 7, 20), 3545, 106, 9), ('nHV2gFrHVaU', '¿Cómo hacer para filtrar agua en el medio de la selva? | Reto Imposible, con Mario Ruiz', datetime.date(2019, 7, 18), 9896, 147, 6), ('3RVSpvSDXiE', 'Conoce a Carlos Fabila | Reto Imposible, con Mario Ruiz', datetime.date(2019, 7, 17), 6058, 112, 4), ('TjPbSo4-Nr4', 'Conoce a Guilherme Ikeda | Reto Imposible, con Mario Ruiz', datetime.date(2019, 7, 15), 8367, 102, 11), ('DMaFYKazyZs', 'Tráiler: Reto Imposible, con Mario Ruiz | Estreno Jueves 25', datetime.date(2019, 7, 11), 9008, 169, 18), ('bHf8JN8pOFc', 'Mira el eclipse solar de 2017 de 3 horas en 1 minuto | #Noticias', datetime.date(2019, 7, 3), 9598, 226, 11), ('oBCle0bhBqM', 'Los desafíos médicos en tiempos modernos  | #BebéOnDemand', datetime.date(2019, 5, 11), 2921, 39, 2), ('Xtu8KgvV0_M', '#BebeOnDemand | Estreno muy pronto', datetime.date(2019, 5, 9), 3383, 65, 4), ('utM1aTnGxWU', 'ESPECIAL: #BebeOnDemand | Nuevo show', datetime.date(2019, 5, 7), 10832, 114, 8), ('95BYfqaWcus', 'Adelanto: #PlanetaHostil | Muy pronto en Nat Geo', datetime.date(2019, 4, 9), 12429, 224, 11), ('hwpLkJ2mqg4', 'Sonidos del Futuro Océano #PlanetOrPlastic', datetime.date(2019, 3, 21), 10275, 207, 3), ('8or4h1MFi30', 'Misión Crítica: Campos de Batalla en la playa', datetime.date(2018, 8, 29), 17248, 274, 13), ('0SkZnzrL3aI', 'El camino de los Mayas | Misterios del Inframundo | NAT GEO', datetime.date(2018, 8, 24), 4417, 66, 1), ('HUTcVbSZkBQ', 'Viajes Salvajes: Migración a Malvinas', datetime.date(2018, 8, 17), 29479, 341, 4), ('oq0R72hrmLM', 'Muere Aretha Franklin, la reina del soul', datetime.date(2018, 8, 16), 4759, 126, 10), ('GrY4RRugZAY', '¿Cuánto tarda una larva en transformarse en una mariposa monarca?', datetime.date(2018, 7, 31), 900421, 4996, 133), ('6GN2VmcJ8UY', 'Phenoms Road to Russia: Regional Specials: Hirving Lozano', datetime.date(2018, 6, 19), 1888, 24, 0), ('c1dvZEfnJg0', 'Wild Sudamérica | Nat Geo', datetime.date(2018, 2, 26), 3186, 26, 0), ('hYAqHtnrN_4', 'Ciencia de lo Absurdo: El desafío de la sandía | Nat Geo', datetime.date(2018, 2, 8), 23914, 161, 3), ('R7PFsLhO_WE', 'Promo: Hamilton&#39;s Pharmacopeia | Nat Geo', datetime.date(2018, 2, 7), 3897, 32, 4), ('j4J-vb4TNr8', 'Ballenas en la Antártida | Nat Geo', datetime.date(2018, 2, 5), 2016, 30, 1), ('1NLB7l9HpJg', '¿Cómo definir al amor?  | Nat Geo', datetime.date(2018, 1, 22), 4673, 97, 3), ('NKN2NKUTQfU', '¿Es posible la paz en la Tierra? | Nat Geo', datetime.date(2018, 1, 22), 1917, 65, 4), ('32VLtsj7OS0', 'Una Nueva Era de Extinción: Planeta en Peligro | Nat Geo', datetime.date(2017, 12, 10), 7960, 129, 3), ('8Q_g_IY4Piw', 'Un Trío Improbable | Nat Geo', datetime.date(2017, 11, 20), 7187, 80, 2), ('FlUGj9zKxb8', 'Lo más viralizado: Jane Goodall', datetime.date(2017, 11, 17), 72397, 1579, 46), ('ayk4FwNCRL4', 'Mi Compañera, la Guepardo | Nat Geo', datetime.date(2017, 11, 17), 17673, 261, 8), ('ZqiSiX8QD7o', '¿Qué es el Cambio Climático? | Nat Geo', datetime.date(2017, 11, 15), 40611, 555, 10), ('EzRBtDyv1B0', 'El Show del Perro y el Poni | Nat Geo', datetime.date(2017, 11, 12), 19801, 165, 4), ('vQA0hd8Vv8E', 'Una Mapache Entrenada para ir al Baño | Nat Geo', datetime.date(2017, 11, 10), 26698, 456, 14), ('STLmi1hc-yw', 'Cargas Insólitas en #AlertaAeropuerto | Nat Geo', datetime.date(2017, 11, 8), 8260, 35, 0), ('FfiVp_qWBak', 'Marie Curie en Genius | Nat Geo', datetime.date(2017, 11, 7), 13389, 303, 25), ('LMiDJtroDIw', 'Familias Militares | Nat Geo', datetime.date(2017, 11, 6), 409, 9, 0), ('yvbHEzAPUgU', 'El Mejor Niñero Canino | Nat Geo', datetime.date(2017, 11, 6), 5148, 63, 4), ('txTqXPL-K-I', 'Una Gatita y una Cerdita  | Nat Geo', datetime.date(2017, 11, 5), 7194, 122, 0), ('xKrRNHHKHsI', 'Vuelve: Antes que Sea Tarde | Nat Geo', datetime.date(2017, 11, 3), 5230, 86, 4), ('X3JdheR8Exk', '170 años de Historias y Emociones | Episodio Completo | Nat Geo', datetime.date(2017, 10, 31), 38254, 539, 13), ('Ag5D4y85LOM', 'Luz Verde | Episodio 4 | Nat Geo', datetime.date(2017, 10, 31), 601, 22, 1), ('JmSKya9raWQ', 'El Gato y la Rata: #AmistadesInsolitas | Nat Geo', datetime.date(2017, 10, 31), 35998, 538, 20), ('LOGP8Qnh070', 'La vía láctea | Nat Geo', datetime.date(2017, 10, 30), 2966, 34, 0), ('8WVabGfkl8Y', 'Viajar en el tiempo | Nat Geo', datetime.date(2017, 10, 30), 184371, 3096, 232), ('ZmfE5E5ok68', '¿Hay vida en otros planetas?  | Nat Geo', datetime.date(2017, 10, 30), 66473, 1185, 126), ('aLgfM0592pg', 'La Revolución del Género  | Nat Geo', datetime.date(2017, 10, 27), 7860, 85, 24), ('v4vJ6_kcZEk', 'Albert conoce a Mileva | Nat Geo', datetime.date(2017, 9, 15), 92400, 1517, 96), ('BZ7YNAbLNSg', 'Revillagigedo, El México más Salvaje | Nat Geo', datetime.date(2017, 9, 11), 3535, 28, 0), ('Ox3aCM6hoHk', 'Las Islas de Revillagigedo | Mares Mexicanos | Nat Geo', datetime.date(2017, 9, 11), 10025, 238, 17), ('9gUpEcfAiXI', 'Las Islas Galápagos | Trailer | Nat Geo', datetime.date(2017, 9, 7), 49181, 766, 60), ('6-nVITr92vw', 'Archipiélago Juan Fernández  | Nat Geo', datetime.date(2017, 9, 7), 22505, 389, 24), ('06LcgVQg7Yk', 'Cabo de Hornos | Océanos protegidos | Nat Geo', datetime.date(2017, 9, 5), 5620, 122, 9), ('TAaABned_tk', 'En Impac4  | Conservación Marina | Nat Geo', datetime.date(2017, 9, 4), 2525, 67, 6), ('gR8FaMtnE4o', 'Adelanto | Nat Geo', datetime.date(2017, 8, 31), 1885, 43, 3), ('lFb2EKpsNTQ', '¿Cómo se vio el Eclipse Solar de 2017? | Nat Geo', datetime.date(2017, 8, 18), 7207, 85, 5), ('adA-dgLP9os', 'En un Millón de Años | Nat Geo', datetime.date(2017, 8, 14), 17444, 159, 4), ('IDrN0E52aIY', 'Adelanto: Los Medios | Diana en Primera Persona | Nat Geo', datetime.date(2017, 8, 7), 16907, 108, 10), ('6sJoOzKkaD8', 'Hormiga Tejedora | Earth Live | Nat Geo', datetime.date(2017, 7, 20), 4678, 64, 2), ('mhBHCdjdke4', 'AsombrosaMente | Sebastián Martínez | Natinal Geographic', datetime.date(2017, 5, 4), 3527, 34, 1), ('l3ridGujweM', 'AsombrosaMente | Emociones | National Geographic', datetime.date(2017, 5, 4), 1270, 4, 0), ('Q7lp-ms8iJU', 'Quién mató a Reagan | Estreno | Nat Geo', datetime.date(2017, 1, 16), 5268, 81, 7), ('DOWDCHzU-sk', 'Mars | Adelanto episodio 3 | Nat Geo', datetime.date(2016, 11, 21), 2635, 37, 2), ('LvC5C9L8q_I', 'Mars | ¿Están listos?  | Nat Geo', datetime.date(2016, 11, 7), 7166, 155, 29), ('mrUup-8ygUg', 'May day | Nuevos episodios  | Nat Geo', datetime.date(2016, 6, 15), 13839, 77, 3), ('x3uO8u8dM2A', 'La Historia de Dios | Morgan Freeman | Nat Geo', datetime.date(2016, 3, 17), 18550, 77, 5), ('CAexCWu6VnM', 'La Historia de Dios | 2016 | Nat Geo', datetime.date(2016, 3, 17), 12230, 41, 0), ('i3O6gtEcDkw', 'Barones de la Cerveza | Nueva Serie | Nat Geo', datetime.date(2016, 3, 15), 7672, 15, 2), ('B3iuPk_1z2c', 'Barones de la Cerveza| Momento Cervecero | Nat Geo', datetime.date(2016, 3, 15), 6025, 11, 0), ('StvlFYCwbnc', 'Inventos Extraordinarios | Más que humano | Nat Geo', datetime.date(2015, 11, 2), 57691, 42, 8), ('7LTuDayMmts', 'Mentes Brillantes | Guerra de Inventores | Nat Geo', datetime.date(2015, 8, 2), 3006, 9, 0), ('jvHI4_vMyxs', 'Mentes Brillantes |Superdomingo| Nat Geo', datetime.date(2015, 7, 23), 24771, 78, 22), ('6axMnrl4mR8', 'Mentes Brillantes | Especial viernes | Nat Geo', datetime.date(2015, 7, 23), 9609, 38, 9), ('_iRf0V4LlPI', '¿Quién es el Chapo Guzmán? | Superdomingo | Nat Geo', datetime.date(2015, 7, 20), 18640, 62, 15), ('9OJ5yOhngo8', 'Cómo Funciona el Mundo | Nueva serie | Nat Geo', datetime.date(2015, 6, 29), 8373, 68, 3), ('hdfDB3rx4O0', 'Cómo Funciona el Mundo | Nueva serie | Nat Geo', datetime.date(2015, 6, 29), 7256, 54, 2), ('WJi3Tg4mXLM', 'La Ciencia de lo Absurdo | Estreno | Nat Geo', datetime.date(2015, 4, 10), 5536, 34, 2), ('hxV-jS0ZZZc', 'La Ciencia de lo Absurdo | Poncho está de regreso | Nat Geo', datetime.date(2015, 4, 1), 11837, 64, 3), ('-HloxCzNW3w', 'Quién mató a Jesús | Producción Original | Nat Geo', datetime.date(2015, 3, 11), 45655, 158, 62), ('JsLm1NKHy6w', 'Quién mató a Jesús | Producción Original | Nat Geo', datetime.date(2015, 3, 11), 26750, 67, 23), ('HCkVQRF6yvE', 'No Tan Obvio | Estreno nueva temporada | Nat Geo', datetime.date(2015, 3, 2), 5873, 20, 1), ('twuCqiu4ty0', 'La Ciencia de lo Absurdo | Nueva temporada | Nat Geo', datetime.date(2015, 2, 25), 3511, 10, 0), ('HQCrt2XJXhc', 'Quién mató a Jesús | Estreno mundial | Nat Geo', datetime.date(2015, 2, 25), 3687, 9, 0), ('XoL_y5oK_P0', 'Quién mató a Jesús | Estreno mundial | Nat Geo', datetime.date(2015, 2, 25), 9384, 15, 4), ('9HL_4XIxZSE', 'Quién mató a Jesús | Estreno en Marzo | Nat Geo', datetime.date(2015, 2, 25), 7960, 30, 6), ('9W6naPgL8GE', 'No Tan Obvio | Nueva temporada | Nat Geo', datetime.date(2015, 2, 23), 7803, 13, 1), ('r2VcWeT-RME', 'No Tan Obvio | Nueva temporada | Nat Geo', datetime.date(2015, 2, 23), 11662, 23, 1), ('xOphcnA18os', 'Mayday: Catástrofes Aéreas | Nueva temporada | Nat Geo', datetime.date(2015, 1, 29), 27726, 82, 8), ('3fRBXOLodkw', 'Nat Geo | Domador de Caballos | Cabestreo', datetime.date(2013, 10, 28), 11258, 20, 0), ('vrJ1wPoRdmU', 'Nat Geo | Domador de Caballos | Corrección de Mañas', datetime.date(2013, 10, 21), 10168, 13, 0), ('n07sgd8hR20', 'Nat Geo | Domador de Caballos | Para Fanáticos', datetime.date(2013, 10, 10), 3591, 13, 0), ('iZOcUwns6nU', 'Nat Geo | Domador de Caballos | Vida en el Campo', datetime.date(2012, 10, 18), 57343, 82, 6)]\n"
          ]
        }
      ]
    }
  ]
}